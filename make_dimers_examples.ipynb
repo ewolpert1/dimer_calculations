{
 "cells": [
  {
   "cell_type": "code",
   "execution_count": null,
   "metadata": {},
   "outputs": [],
   "source": [
    "import dimer_calc\n",
    "from dimer_calc.Optimiser_functions import *\n",
    "from dimer_calc.utils import *\n",
    "from dimer_calc.cage import *\n",
    "from dimer_calc.config import *\n",
    "from dimer_calc.read_energies_catenated_single import *\n",
    "from dimer_calc.collect_lowest import *\n",
    "from dimer_calc.read_energies_catenated_single import *\n",
    "import subprocess\n",
    "import os"
   ]
  },
  {
   "cell_type": "code",
   "execution_count": null,
   "metadata": {},
   "outputs": [],
   "source": [
    "command = \"source ~/.bashrc\"\n",
    "subprocess.run(command, shell=True, executable=\"/bin/bash\")\n",
    "\n",
    "cages_folder_path = config.CAGES_FOLDER_PATH\n",
    "SCHRODINGER_PATH=config.SCHRODINGER_PATH\n",
    "GULP_PATH = config.GULP_PATH\n",
    "XTB_PATH = config.XTB_PATH\n"
   ]
  },
  {
   "cell_type": "markdown",
   "metadata": {},
   "source": [
    "For using GULP to create and run the dimers:"
   ]
  },
  {
   "cell_type": "code",
   "execution_count": null,
   "metadata": {},
   "outputs": [],
   "source": [
    "filename = \"WaaF_1_xtbopt.mol\"\n",
    "cage_path = os.path.join('cages', filename)\n",
    "cage = stk.BuildingBlock.init_from_file(cage_path)\n",
    "gulp_optimizer = GulpDimerOptimizer(gulp_path=GULP_PATH)\n",
    "gulp_optimizer.run_a_cage(filename[:-4], \n",
    "                          cage,\n",
    "                          'c1cc3CNCc4ccc2CNCc1c2c34', \n",
    "                          'N2[CH]C=CC=C2',\n",
    "                           sym=\"oct\",\n",
    "                           )"
   ]
  },
  {
   "cell_type": "markdown",
   "metadata": {},
   "source": [
    "Then to analyse the output:"
   ]
  },
  {
   "cell_type": "code",
   "execution_count": null,
   "metadata": {},
   "outputs": [],
   "source": [
    "current_dir = os.getcwd()\n",
    "cage_number=f'Cage{filename[:-4]}'\n",
    "energy_reader = GULPEnergyReader(cage_name_gulp=f'{cage_number}_gulp',\n",
    "                         cage_name=cage_number,\n",
    "                         current_directory=f\"{current_dir}\",\n",
    "                         destination_folder_end=\"lowest_dimers_gulp\")\n",
    "minimum_energy = energy_reader.read_energy()        "
   ]
  },
  {
   "cell_type": "markdown",
   "metadata": {},
   "source": [
    "and to run unconstrained calculations:"
   ]
  },
  {
   "cell_type": "code",
   "execution_count": null,
   "metadata": {},
   "outputs": [],
   "source": [
    "gulp_optimizer.run_unconstrained_calculations(f'lowest_dimers_gulp/{cage_number}')"
   ]
  },
  {
   "cell_type": "markdown",
   "metadata": {},
   "source": [
    "For using OPLS to create the dimers:"
   ]
  },
  {
   "cell_type": "code",
   "execution_count": null,
   "metadata": {},
   "outputs": [],
   "source": [
    "filename = \"truncated_octahedron_MM.mol\"\n",
    "cage_path = os.path.join('cages', filename)\n",
    "cage = stk.BuildingBlock.init_from_file(cage_path)\n",
    "OPLS_optimizer = OPLSDimerOptimizer(SCHRODINGER_PATH=SCHRODINGER_PATH)\n",
    "OPLS_optimizer.run_a_cage(filename[:-4], \n",
    "                          cage, \n",
    "                          'c7ccc6OB(c5cc(B2Oc1ccccc1O2)cc(B4Oc3ccccc3O4)c5)Oc6c7', \n",
    "                          'CCc1ccc(CC)c3c1C5c2ccccc2C3c4ccccc45',\n",
    "                           sym=\"trunc_oct\")\n",
    "        "
   ]
  },
  {
   "cell_type": "markdown",
   "metadata": {},
   "source": [
    "Then to run it navigate to the Cage{filename[:-4]}_mae folder and run \"run_a_cage.sh\". Once they have finished then you can analyse the output in a similar way. I think this should work but havent tested it in a while so let me know if there are any issues. I'll have to remind myself how I ran unconstrained calculations and update this accordingly."
   ]
  },
  {
   "cell_type": "code",
   "execution_count": null,
   "metadata": {},
   "outputs": [],
   "source": [
    "current_dir = os.getcwd()\n",
    "cage_number=f'Cage{filename[:-4]}'\n",
    "energy_reader = OPLSEnergyReader(cage_name_mae=f'{cage_number}_mae',\n",
    "                         cage_name=cage_number,\n",
    "                         current_directory=f\"{current_dir}\",\n",
    "                         destination_folder_end=\"lowest_dimers_OPLS\")\n",
    "minimum_energy = energy_reader.read_energy()"
   ]
  },
  {
   "cell_type": "markdown",
   "metadata": {},
   "source": [
    "For using XTB to create the dimers:"
   ]
  },
  {
   "cell_type": "code",
   "execution_count": null,
   "metadata": {},
   "outputs": [],
   "source": [
    "filename = \"truncated_octahedron_MM.mol\"\n",
    "cage_path = os.path.join('cages', filename)\n",
    "cage = stk.BuildingBlock.init_from_file(cage_path)\n",
    "xtb_optimizer = XTBDimerOptimizer(xtb_path=XTB_PATH)\n",
    "xtb_optimizer.run_a_cage(\n",
    "    filename[:-4], \n",
    "    cage, \n",
    "    'c7ccc6OB(c5cc(B2Oc1ccccc1O2)cc(B4Oc3ccccc3O4)c5)Oc6c7', \n",
    "    'CCc1ccc(CC)c3c1C5c2ccccc2C3c4ccccc45',\n",
    "    sym=\"trunc_oct\",\n",
    "    metal_atom=None, #This currently doesnt work for different metal atoms, on my to do list so let me know if you need any other metal atoms\n",
    "    constrain=None, #This is if you want to constrain the cages vertices, done by constraining eithet the metal atom or carbons next to imine bonds\n",
    "    parallel=1,\n",
    "    opt=False, #This is if you just want to get SPE calculations of dimers, turn true on for optimisation\n",
    "    )"
   ]
  },
  {
   "cell_type": "markdown",
   "metadata": {},
   "source": [
    "Then to run it navigate to the Cage{filename[:-4]}_xtb folder and run \"constrain.sh\" To be honest this doesnt work for me not on cx1 (probably due to memory or something). Once they have finished then you can analyse the output in a similar way. I think this should work but havent tested it in a while so let me know if there are any issues. I'll have to remind myself how I ran unconstrained calculations and update this accordingly."
   ]
  },
  {
   "cell_type": "code",
   "execution_count": null,
   "metadata": {},
   "outputs": [],
   "source": [
    "current_dir = os.getcwd()\n",
    "cage_number=f'Cage{filename[:-4]}'\n",
    "energy_reader = XTBEnergyReader(cage_name_xtb=f'{cage_number}_xtb',\n",
    "                         cage_name=cage_number,\n",
    "                         current_directory=f\"{current_dir}\",\n",
    "                         destination_folder_end=\"lowest_dimers_xtb\")\n",
    "minimum_energy = energy_reader.read_energy()\n",
   ]
  }
 ],
 "metadata": {
  "language_info": {
   "name": "python"
  }
 },
 "nbformat": 4,
 "nbformat_minor": 2
}
